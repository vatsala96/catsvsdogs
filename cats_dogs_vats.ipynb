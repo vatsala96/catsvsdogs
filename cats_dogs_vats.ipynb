{
 "cells": [
  {
   "cell_type": "code",
   "execution_count": 1,
   "metadata": {},
   "outputs": [
    {
     "name": "stderr",
     "output_type": "stream",
     "text": [
      "/usr/local/lib/python3.5/dist-packages/h5py/__init__.py:36: FutureWarning: Conversion of the second argument of issubdtype from `float` to `np.floating` is deprecated. In future, it will be treated as `np.float64 == np.dtype(float).type`.\n",
      "  from ._conv import register_converters as _register_converters\n",
      "Using TensorFlow backend.\n"
     ]
    }
   ],
   "source": [
    "import numpy as np \n",
    "import os \n",
    "import cv2\n",
    "from random import shuffle\n",
    "from tqdm import tqdm\n",
    "from keras.models import Sequential\n",
    "from keras.layers import Dense"
   ]
  },
  {
   "cell_type": "code",
   "execution_count": 2,
   "metadata": {},
   "outputs": [],
   "source": [
    "train_dir = \"train\"\n",
    "test_dir = \"test1\""
   ]
  },
  {
   "cell_type": "code",
   "execution_count": 3,
   "metadata": {},
   "outputs": [],
   "source": [
    "epochs=10\n",
    "batch_size=64\n",
    "img_size = 64\n",
    "lr = 1e-4"
   ]
  },
  {
   "cell_type": "code",
   "execution_count": 4,
   "metadata": {},
   "outputs": [],
   "source": [
    "def label_img(img):\n",
    "\tword_label = img.split('.')[-3]\n",
    "\n",
    "\tif word_label == \"cat\":\n",
    "\t\treturn 1\n",
    "\n",
    "\treturn 0"
   ]
  },
  {
   "cell_type": "code",
   "execution_count": 5,
   "metadata": {},
   "outputs": [],
   "source": [
    "def create_train_data():\n",
    "\ttraining_data=[]\n",
    "\tfor img in tqdm(os.listdir(train_dir)):\n",
    "\t\tlabel = label_img(img)\n",
    "\t\timg_path = os.path.join(train_dir,img)\n",
    "\t\timg = cv2.imread(img_path)\n",
    "\t\timg = cv2.resize(img, (img_size,img_size))\n",
    "\t\ttraining_data.append([np.array(img),label])\n",
    "\n",
    "\tshuffle(training_data)\n",
    "\tnp.save('training_data.npy',training_data)\n",
    "\n",
    "\treturn training_data"
   ]
  },
  {
   "cell_type": "code",
   "execution_count": 6,
   "metadata": {},
   "outputs": [],
   "source": [
    "def create_test_data():\n",
    "\ttesting_data=[]\n",
    "\tfor img in tqdm(os.listdir(test_dir)):\n",
    "\t\timg_path = os.path.join(test_dir,img)\n",
    "\t\timg_num = img.split('.')[0]\n",
    "\t\timg = cv2.imread(img_path)\n",
    "\t\timg = cv2.resize(img, (img_size,img_size))\n",
    "\t\ttesting_data.append([np.array(img), img_num])\n",
    "\n",
    "\tshuffle(testing_data)\n",
    "\tnp.save('testing_data.npy',testing_data)\n",
    "\n",
    "\treturn testing_data"
   ]
  },
  {
   "cell_type": "code",
   "execution_count": 7,
   "metadata": {},
   "outputs": [],
   "source": [
    "train_data = np.load('training_data.npy')"
   ]
  },
  {
   "cell_type": "code",
   "execution_count": 8,
   "metadata": {},
   "outputs": [
    {
     "data": {
      "text/plain": [
       "(24500, 2)"
      ]
     },
     "execution_count": 8,
     "metadata": {},
     "output_type": "execute_result"
    }
   ],
   "source": [
    "train = train_data[:-500]\n",
    "test = train_data[-500:]\n",
    "train.shape"
   ]
  },
  {
   "cell_type": "code",
   "execution_count": 9,
   "metadata": {},
   "outputs": [
    {
     "name": "stdout",
     "output_type": "stream",
     "text": [
      "(24500, 12288)\n"
     ]
    }
   ],
   "source": [
    "X = np.array([i[0]/255 for i in train]).reshape(-1,img_size,img_size,3)\n",
    "X = X.flatten().reshape(len(X),img_size*img_size*3)\n",
    "print(X.shape)\n",
    "Y = np.array([i[1] for i in train])"
   ]
  },
  {
   "cell_type": "code",
   "execution_count": 10,
   "metadata": {},
   "outputs": [],
   "source": [
    "test_x = np.array([i[0]/255 for i in test]).reshape(-1,img_size,img_size,3)\n",
    "test_x = test_x.flatten().reshape(len(test_x),img_size*img_size*3)\n",
    "test_y = [i[1] for i in test]"
   ]
  },
  {
   "cell_type": "code",
   "execution_count": 11,
   "metadata": {},
   "outputs": [],
   "source": [
    "model=Sequential()\n",
    "model.add(Dense(256,activation='relu',input_dim=img_size*img_size*3,name=\"kauzi1\"))\n",
    "model.add(Dense(128,activation='relu',input_dim=img_size*img_size,name=\"kauzi2\"))\n",
    "model.add(Dense(64,activation='relu',input_dim=img_size*img_size,name=\"kauzi3\"))\n",
    "model.add(Dense(32,activation='relu',name=\"kauzi4\"))\n",
    "model.add(Dense(1,activation='sigmoid',name=\"kauzi5\"))"
   ]
  },
  {
   "cell_type": "code",
   "execution_count": 12,
   "metadata": {},
   "outputs": [],
   "source": [
    "model.compile(loss='binary_crossentropy', optimizer='adam', metrics=['accuracy'])"
   ]
  },
  {
   "cell_type": "code",
   "execution_count": 13,
   "metadata": {},
   "outputs": [
    {
     "name": "stdout",
     "output_type": "stream",
     "text": [
      "_________________________________________________________________\n",
      "Layer (type)                 Output Shape              Param #   \n",
      "=================================================================\n",
      "kauzi1 (Dense)               (None, 256)               3145984   \n",
      "_________________________________________________________________\n",
      "kauzi2 (Dense)               (None, 128)               32896     \n",
      "_________________________________________________________________\n",
      "kauzi3 (Dense)               (None, 64)                8256      \n",
      "_________________________________________________________________\n",
      "kauzi4 (Dense)               (None, 32)                2080      \n",
      "_________________________________________________________________\n",
      "kauzi5 (Dense)               (None, 1)                 33        \n",
      "=================================================================\n",
      "Total params: 3,189,249\n",
      "Trainable params: 3,189,249\n",
      "Non-trainable params: 0\n",
      "_________________________________________________________________\n",
      "None\n"
     ]
    }
   ],
   "source": [
    "print(model.summary())"
   ]
  },
  {
   "cell_type": "code",
   "execution_count": 14,
   "metadata": {},
   "outputs": [
    {
     "name": "stdout",
     "output_type": "stream",
     "text": [
      "Train on 24500 samples, validate on 500 samples\n",
      "Epoch 1/10\n",
      "24500/24500 [==============================] - 17s 700us/step - loss: 0.7062 - acc: 0.5605 - val_loss: 0.6992 - val_acc: 0.5660\n",
      "Epoch 2/10\n",
      "24500/24500 [==============================] - 16s 655us/step - loss: 0.6680 - acc: 0.5938 - val_loss: 0.6459 - val_acc: 0.6080\n",
      "Epoch 3/10\n",
      "24500/24500 [==============================] - 16s 655us/step - loss: 0.6549 - acc: 0.6111 - val_loss: 0.6946 - val_acc: 0.5840\n",
      "Epoch 4/10\n",
      "24500/24500 [==============================] - 16s 655us/step - loss: 0.6483 - acc: 0.6156 - val_loss: 0.6630 - val_acc: 0.6280\n",
      "Epoch 5/10\n",
      "24500/24500 [==============================] - 16s 655us/step - loss: 0.6449 - acc: 0.6245 - val_loss: 0.6435 - val_acc: 0.6140\n",
      "Epoch 6/10\n",
      "24500/24500 [==============================] - 16s 657us/step - loss: 0.6347 - acc: 0.6364 - val_loss: 0.6697 - val_acc: 0.5980\n",
      "Epoch 7/10\n",
      "24500/24500 [==============================] - 16s 651us/step - loss: 0.6338 - acc: 0.6302 - val_loss: 0.6354 - val_acc: 0.6380\n",
      "Epoch 8/10\n",
      "24500/24500 [==============================] - 16s 653us/step - loss: 0.6279 - acc: 0.6448 - val_loss: 0.6322 - val_acc: 0.6260\n",
      "Epoch 9/10\n",
      "24500/24500 [==============================] - 16s 660us/step - loss: 0.6188 - acc: 0.6519 - val_loss: 0.6294 - val_acc: 0.6140\n",
      "Epoch 10/10\n",
      "24500/24500 [==============================] - 16s 658us/step - loss: 0.6221 - acc: 0.6523 - val_loss: 0.6144 - val_acc: 0.6640\n"
     ]
    },
    {
     "data": {
      "text/plain": [
       "<keras.callbacks.History at 0x7f50d6b3d358>"
      ]
     },
     "execution_count": 14,
     "metadata": {},
     "output_type": "execute_result"
    }
   ],
   "source": [
    "model.fit(X,Y,epochs=epochs,batch_size=batch_size,verbose = 1,validation_data=(test_x,test_y))"
   ]
  },
  {
   "cell_type": "code",
   "execution_count": 15,
   "metadata": {},
   "outputs": [],
   "source": [
    "img=test_x[2].reshape(64,64,3)\n",
    "cv2.namedWindow('image',cv2.WINDOW_NORMAL)\n",
    "cv2.imshow('image',img)\n",
    "cv2.waitKey(0)\n",
    "cv2.destroyAllWindows()"
   ]
  },
  {
   "cell_type": "code",
   "execution_count": 16,
   "metadata": {},
   "outputs": [
    {
     "name": "stdout",
     "output_type": "stream",
     "text": [
      "cat\n"
     ]
    }
   ],
   "source": [
    "pred=model.predict(np.array([test_x[2],]))\n",
    "if pred>=0 and pred<=0.5 :\n",
    "    print(\"dog\")\n",
    "else :\n",
    "    print(\"cat\")"
   ]
  },
  {
   "cell_type": "code",
   "execution_count": null,
   "metadata": {},
   "outputs": [],
   "source": []
  },
  {
   "cell_type": "code",
   "execution_count": null,
   "metadata": {},
   "outputs": [],
   "source": []
  }
 ],
 "metadata": {
  "kernelspec": {
   "display_name": "Python 3",
   "language": "python",
   "name": "python3"
  },
  "language_info": {
   "codemirror_mode": {
    "name": "ipython",
    "version": 3
   },
   "file_extension": ".py",
   "mimetype": "text/x-python",
   "name": "python",
   "nbconvert_exporter": "python",
   "pygments_lexer": "ipython3",
   "version": "3.5.2"
  }
 },
 "nbformat": 4,
 "nbformat_minor": 2
}
