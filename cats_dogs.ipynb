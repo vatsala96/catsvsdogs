{
 "cells": [
  {
   "cell_type": "code",
   "execution_count": 2,
   "metadata": {
    "collapsed": true
   },
   "outputs": [],
   "source": [
    "% matplotlib inline\n",
    "import numpy as np \n",
    "import os \n",
    "import cv2\n",
    "from random import shuffle\n",
    "from tqdm import tqdm\n",
    "import tflearn\n",
    "from tflearn.layers.conv import conv_2d, max_pool_2d\n",
    "from tflearn.layers.core import input_data, dropout, fully_connected\n",
    "from tflearn.layers.estimator import regression"
   ]
  },
  {
   "cell_type": "code",
   "execution_count": 3,
   "metadata": {
    "collapsed": true
   },
   "outputs": [],
   "source": [
    "train_dir = \"train\"\n",
    "test_dir = \"test1\"\n",
    "\n",
    "img_size = 50\n",
    "lr = 1e-3\n",
    "\n",
    "MODEL_NAME = \"dog_cat_{}_{}.model\".format(lr,\"2convbasic\")"
   ]
  },
  {
   "cell_type": "code",
   "execution_count": 4,
   "metadata": {
    "collapsed": true
   },
   "outputs": [],
   "source": [
    "def label_img(img):\n",
    "    word_label = img.split('.')[-3]\n",
    "\n",
    "    if word_label == \"cat\":\n",
    "        return [1,0]\n",
    "    if word_label == \"dog\":\n",
    "        return [0,1]"
   ]
  },
  {
   "cell_type": "code",
   "execution_count": 5,
   "metadata": {
    "collapsed": true
   },
   "outputs": [],
   "source": [
    "def create_train_data():\n",
    "\ttraining_data=[]\n",
    "\tfor img in tqdm(os.listdir(train_dir)):\n",
    "\t\tlabel = label_img(img)\n",
    "\t\timg_path = os.path.join(train_dir,img)\n",
    "\t\timg = cv2.imread(img_path, cv2.IMREAD_GRAYSCALE)\n",
    "\t\timg = cv2.resize(img, (img_size,img_size))\n",
    "\t\ttraining_data.append([np.array(img),np.array(label)])\n",
    "\n",
    "\tshuffle(training_data)\n",
    "\tnp.save('training_data.npy',training_data)\n",
    "\n",
    "\treturn training_data"
   ]
  },
  {
   "cell_type": "code",
   "execution_count": 6,
   "metadata": {
    "collapsed": true
   },
   "outputs": [],
   "source": [
    "def create_test_data():\n",
    "\ttesting_data=[]\n",
    "\tfor img in tqdm(os.listdir(test_dir)):\n",
    "\t\timg_path = os.path.join(test_dir,img)\n",
    "\t\timg_num = img.split('.')[0]\n",
    "\t\timg = cv2.imread(img_path, cv2.IMREAD_GRAYSCALE)\n",
    "\t\timg = cv2.resize(img, (img_size,img_size))\n",
    "\t\ttesting_data.append([np.array(img), img_num])\n",
    "\n",
    "\tshuffle(testing_data)\n",
    "\tnp.save('testing_data.npy',testing_data)\n",
    "\n",
    "\treturn testing_data"
   ]
  },
  {
   "cell_type": "code",
   "execution_count": 7,
   "metadata": {
    "collapsed": true
   },
   "outputs": [],
   "source": [
    "# train_data = create_train_data()\n",
    "\n",
    "train_data = np.load('training_data.npy')"
   ]
  },
  {
   "cell_type": "code",
   "execution_count": 8,
   "metadata": {},
   "outputs": [
    {
     "name": "stdout",
     "output_type": "stream",
     "text": [
      "WARNING:tensorflow:From /usr/local/lib/python3.5/dist-packages/tflearn/initializations.py:119: UniformUnitScaling.__init__ (from tensorflow.python.ops.init_ops) is deprecated and will be removed in a future version.\n",
      "Instructions for updating:\n",
      "Use tf.initializers.variance_scaling instead with distribution=uniform to get equivalent behavior.\n"
     ]
    }
   ],
   "source": [
    "convnet = input_data(shape=[None,img_size,img_size,1],name = 'input')\n",
    "\n",
    "convnet = conv_2d(convnet,32,5,activation = 'relu')\n",
    "convnet = max_pool_2d(convnet,5)\n",
    "\n",
    "convnet = conv_2d(convnet,64,5,activation='relu')\n",
    "convnet = max_pool_2d(convnet,5)\n",
    "\n",
    "convnet = fully_connected(convnet,1024,activation='relu')\n",
    "convnet = dropout(convnet,0.7)\n",
    "\n",
    "convnet = fully_connected(convnet,2,activation = 'softmax')\n",
    "convnet = regression(convnet, optimizer = 'adam', learning_rate = lr, loss = 'categorical_crossentropy', name = 'targets')\n",
    "\n",
    "model = tflearn.DNN(convnet, tensorboard_dir='log')"
   ]
  },
  {
   "cell_type": "code",
   "execution_count": 9,
   "metadata": {},
   "outputs": [],
   "source": [
    "if os.path.exists('{}.meta'.format(MODEL_NAME)):\n",
    "    model.load(MODEL_NAME)\n",
    "    print('model loaded!')"
   ]
  },
  {
   "cell_type": "code",
   "execution_count": 10,
   "metadata": {
    "collapsed": true
   },
   "outputs": [],
   "source": [
    "train = train_data[:-500]\n",
    "test = train_data[-500:]\n",
    "\n",
    "X = np.array([i[0] for i in train]).reshape(-1,img_size,img_size,1)\n",
    "Y = [i[1] for i in train]\n",
    "\n",
    "test_x = np.array([i[0] for i in test]).reshape(-1,img_size,img_size,1)\n",
    "test_y = [i[1] for i in test]"
   ]
  },
  {
   "cell_type": "code",
   "execution_count": 10,
   "metadata": {},
   "outputs": [
    {
     "name": "stdout",
     "output_type": "stream",
     "text": [
      "Training Step: 1148  | total loss: \u001b[1m\u001b[32m11.41822\u001b[0m\u001b[0m | time: 109.012s\n",
      "| Adam | epoch: 003 | loss: 11.41822 - acc: 0.5041 -- iter: 24448/24500\n",
      "Training Step: 1149  | total loss: \u001b[1m\u001b[32m11.57160\u001b[0m\u001b[0m | time: 110.298s\n",
      "| Adam | epoch: 003 | loss: 11.57160 - acc: 0.4975 | val_loss: 10.86820 - val_acc: 0.5280 -- iter: 24500/24500\n",
      "--\n",
      "None\n"
     ]
    }
   ],
   "source": [
    "print(model.fit({'input':X},{'targets':Y},n_epoch = 3,validation_set=({'input':test_x}, {'targets':test_y}), snapshot_step=500,show_metric = True, run_id = MODEL_NAME))\n"
   ]
  },
  {
   "cell_type": "code",
   "execution_count": 14,
   "metadata": {
    "collapsed": true
   },
   "outputs": [],
   "source": [
    "pred = model.predict(test_x[:50])"
   ]
  },
  {
   "cell_type": "code",
   "execution_count": null,
   "metadata": {},
   "outputs": [],
   "source": [
    "cv2.namedWindow('image', cv2.WINDOW_NORMAL)\n",
    "cv2.imshow('image',test[0][1])\n",
    "cv2.waitKey(0)\n",
    "cv2.destroyAllWindows()"
   ]
  },
  {
   "cell_type": "code",
   "execution_count": null,
   "metadata": {
    "collapsed": true
   },
   "outputs": [],
   "source": []
  }
 ],
 "metadata": {
  "kernelspec": {
   "display_name": "Python 3",
   "language": "python",
   "name": "python3"
  },
  "language_info": {
   "codemirror_mode": {
    "name": "ipython",
    "version": 3
   },
   "file_extension": ".py",
   "mimetype": "text/x-python",
   "name": "python",
   "nbconvert_exporter": "python",
   "pygments_lexer": "ipython3",
   "version": "3.5.2"
  }
 },
 "nbformat": 4,
 "nbformat_minor": 2
}
